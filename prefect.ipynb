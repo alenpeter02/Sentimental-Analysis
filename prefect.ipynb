{
 "cells": [
  {
   "cell_type": "code",
   "execution_count": 155,
   "id": "2ea1be55-5e5d-4a0f-9df9-08919e500289",
   "metadata": {
    "tags": []
   },
   "outputs": [],
   "source": [
    "from prefect import task, flow"
   ]
  },
  {
   "cell_type": "code",
   "execution_count": 156,
   "id": "3e981847-eaca-478c-b709-c88739a25680",
   "metadata": {
    "tags": []
   },
   "outputs": [],
   "source": [
    "import pandas as pd\n",
    "import numpy as np\n",
    "import nltk\n",
    "from nltk.tokenize import word_tokenize\n",
    "from nltk.corpus import stopwords\n",
    "from nltk.stem import WordNetLemmatizer\n",
    "import re\n",
    "import string\n",
    "from imblearn.over_sampling import SMOTE\n",
    "from imblearn.under_sampling import RandomUnderSampler\n",
    "\n",
    "from sklearn.pipeline import Pipeline\n",
    "\n",
    "from sklearn.feature_extraction.text import TfidfVectorizer\n",
    "\n",
    "\n",
    "from sklearn import metrics\n",
    "from sklearn.model_selection import train_test_split\n",
    "from sklearn.pipeline import Pipeline\n",
    "from sklearn.metrics import accuracy_score\n",
    "from sklearn.ensemble import RandomForestClassifier"
   ]
  },
  {
   "cell_type": "code",
   "execution_count": 157,
   "id": "2e60ff21-482e-4754-8875-3299a16496b9",
   "metadata": {
    "tags": []
   },
   "outputs": [],
   "source": [
    "from joblib import Memory\n",
    "cachedir = '.cache'\n",
    "memory = Memory(location=cachedir, verbose=0)"
   ]
  },
  {
   "cell_type": "code",
   "execution_count": 158,
   "id": "bbd37fda-8a49-44a9-8cbe-ee6bb8b39929",
   "metadata": {
    "tags": []
   },
   "outputs": [],
   "source": [
    "import pandas as pd\n",
    "import numpy as np\n",
    "import matplotlib.pyplot as plt\n",
    "import seaborn as sns"
   ]
  },
  {
   "cell_type": "code",
   "execution_count": 161,
   "id": "e5d56ff0-e413-4b2f-bacd-d3464554d9f6",
   "metadata": {
    "tags": []
   },
   "outputs": [
    {
     "data": {
      "text/html": [
       "<div>\n",
       "<style scoped>\n",
       "    .dataframe tbody tr th:only-of-type {\n",
       "        vertical-align: middle;\n",
       "    }\n",
       "\n",
       "    .dataframe tbody tr th {\n",
       "        vertical-align: top;\n",
       "    }\n",
       "\n",
       "    .dataframe thead th {\n",
       "        text-align: right;\n",
       "    }\n",
       "</style>\n",
       "<table border=\"1\" class=\"dataframe\">\n",
       "  <thead>\n",
       "    <tr style=\"text-align: right;\">\n",
       "      <th></th>\n",
       "      <th>Reviewer Name</th>\n",
       "      <th>Review Title</th>\n",
       "      <th>Place of Review</th>\n",
       "      <th>Up Votes</th>\n",
       "      <th>Down Votes</th>\n",
       "      <th>Month</th>\n",
       "      <th>Review text</th>\n",
       "      <th>Ratings</th>\n",
       "      <th>Sentiment</th>\n",
       "    </tr>\n",
       "  </thead>\n",
       "  <tbody>\n",
       "    <tr>\n",
       "      <th>0</th>\n",
       "      <td>Kamal Suresh</td>\n",
       "      <td>Nice product</td>\n",
       "      <td>Certified Buyer, Chirakkal</td>\n",
       "      <td>889.0</td>\n",
       "      <td>64.0</td>\n",
       "      <td>Feb-21</td>\n",
       "      <td>Nice product, good quality, but price is now r...</td>\n",
       "      <td>4</td>\n",
       "      <td>NaN</td>\n",
       "    </tr>\n",
       "    <tr>\n",
       "      <th>1</th>\n",
       "      <td>Flipkart Customer</td>\n",
       "      <td>Don't waste your money</td>\n",
       "      <td>Certified Buyer, Hyderabad</td>\n",
       "      <td>109.0</td>\n",
       "      <td>6.0</td>\n",
       "      <td>Feb-21</td>\n",
       "      <td>They didn't supplied Yonex Mavis 350. Outside ...</td>\n",
       "      <td>1</td>\n",
       "      <td>NaN</td>\n",
       "    </tr>\n",
       "    <tr>\n",
       "      <th>2</th>\n",
       "      <td>A. S. Raja Srinivasan</td>\n",
       "      <td>Did not meet expectations</td>\n",
       "      <td>Certified Buyer, Dharmapuri</td>\n",
       "      <td>42.0</td>\n",
       "      <td>3.0</td>\n",
       "      <td>Apr-21</td>\n",
       "      <td>Worst product. Damaged shuttlecocks packed in ...</td>\n",
       "      <td>1</td>\n",
       "      <td>NaN</td>\n",
       "    </tr>\n",
       "    <tr>\n",
       "      <th>3</th>\n",
       "      <td>Suresh Narayanasamy</td>\n",
       "      <td>Fair</td>\n",
       "      <td>Certified Buyer, Chennai</td>\n",
       "      <td>25.0</td>\n",
       "      <td>1.0</td>\n",
       "      <td>NaN</td>\n",
       "      <td>Quite O. K. , but nowadays  the quality of the...</td>\n",
       "      <td>3</td>\n",
       "      <td>NaN</td>\n",
       "    </tr>\n",
       "    <tr>\n",
       "      <th>4</th>\n",
       "      <td>ASHIK P A</td>\n",
       "      <td>Over priced</td>\n",
       "      <td>NaN</td>\n",
       "      <td>147.0</td>\n",
       "      <td>24.0</td>\n",
       "      <td>Apr-16</td>\n",
       "      <td>Over pricedJust â?¹620 ..from retailer.I didn'...</td>\n",
       "      <td>1</td>\n",
       "      <td>NaN</td>\n",
       "    </tr>\n",
       "    <tr>\n",
       "      <th>...</th>\n",
       "      <td>...</td>\n",
       "      <td>...</td>\n",
       "      <td>...</td>\n",
       "      <td>...</td>\n",
       "      <td>...</td>\n",
       "      <td>...</td>\n",
       "      <td>...</td>\n",
       "      <td>...</td>\n",
       "      <td>...</td>\n",
       "    </tr>\n",
       "    <tr>\n",
       "      <th>8505</th>\n",
       "      <td>MD. Jabbar</td>\n",
       "      <td>Very Good</td>\n",
       "      <td>NaN</td>\n",
       "      <td>1.0</td>\n",
       "      <td>0.0</td>\n",
       "      <td>Sep-16</td>\n",
       "      <td>Delivered before time but price is high from m...</td>\n",
       "      <td>3</td>\n",
       "      <td>NaN</td>\n",
       "    </tr>\n",
       "    <tr>\n",
       "      <th>8506</th>\n",
       "      <td>Abani Behera</td>\n",
       "      <td>Don't waste your money</td>\n",
       "      <td>NaN</td>\n",
       "      <td>0.0</td>\n",
       "      <td>2.0</td>\n",
       "      <td>Sep-16</td>\n",
       "      <td>up to the mark but same is available in market...</td>\n",
       "      <td>4</td>\n",
       "      <td>NaN</td>\n",
       "    </tr>\n",
       "    <tr>\n",
       "      <th>8507</th>\n",
       "      <td>vishnu varma</td>\n",
       "      <td>Really Nice</td>\n",
       "      <td>Certified Buyer, Agartala</td>\n",
       "      <td>0.0</td>\n",
       "      <td>1.0</td>\n",
       "      <td>Sep-16</td>\n",
       "      <td>Nice delivery speedREAD MORE</td>\n",
       "      <td>5</td>\n",
       "      <td>NaN</td>\n",
       "    </tr>\n",
       "    <tr>\n",
       "      <th>8508</th>\n",
       "      <td>NaN</td>\n",
       "      <td>NaN</td>\n",
       "      <td>NaN</td>\n",
       "      <td>NaN</td>\n",
       "      <td>NaN</td>\n",
       "      <td>NaN</td>\n",
       "      <td>No complaints about the item . Its the best on...</td>\n",
       "      <td>5</td>\n",
       "      <td>NaN</td>\n",
       "    </tr>\n",
       "    <tr>\n",
       "      <th>8509</th>\n",
       "      <td>NaN</td>\n",
       "      <td>NaN</td>\n",
       "      <td>NaN</td>\n",
       "      <td>NaN</td>\n",
       "      <td>NaN</td>\n",
       "      <td>NaN</td>\n",
       "      <td>Not sure why we have charged for this product ...</td>\n",
       "      <td>1</td>\n",
       "      <td>NaN</td>\n",
       "    </tr>\n",
       "  </tbody>\n",
       "</table>\n",
       "<p>8510 rows × 9 columns</p>\n",
       "</div>"
      ],
      "text/plain": [
       "               Reviewer Name               Review Title  \\\n",
       "0               Kamal Suresh               Nice product   \n",
       "1          Flipkart Customer     Don't waste your money   \n",
       "2     A. S. Raja Srinivasan   Did not meet expectations   \n",
       "3        Suresh Narayanasamy                       Fair   \n",
       "4                  ASHIK P A                Over priced   \n",
       "...                      ...                        ...   \n",
       "8505              MD. Jabbar                  Very Good   \n",
       "8506            Abani Behera     Don't waste your money   \n",
       "8507            vishnu varma                Really Nice   \n",
       "8508                     NaN                        NaN   \n",
       "8509                     NaN                        NaN   \n",
       "\n",
       "                  Place of Review  Up Votes  Down Votes   Month  \\\n",
       "0      Certified Buyer, Chirakkal     889.0        64.0  Feb-21   \n",
       "1      Certified Buyer, Hyderabad     109.0         6.0  Feb-21   \n",
       "2     Certified Buyer, Dharmapuri      42.0         3.0  Apr-21   \n",
       "3        Certified Buyer, Chennai      25.0         1.0     NaN   \n",
       "4                             NaN     147.0        24.0  Apr-16   \n",
       "...                           ...       ...         ...     ...   \n",
       "8505                          NaN       1.0         0.0  Sep-16   \n",
       "8506                          NaN       0.0         2.0  Sep-16   \n",
       "8507    Certified Buyer, Agartala       0.0         1.0  Sep-16   \n",
       "8508                          NaN       NaN         NaN     NaN   \n",
       "8509                          NaN       NaN         NaN     NaN   \n",
       "\n",
       "                                            Review text  Ratings  Sentiment  \n",
       "0     Nice product, good quality, but price is now r...        4        NaN  \n",
       "1     They didn't supplied Yonex Mavis 350. Outside ...        1        NaN  \n",
       "2     Worst product. Damaged shuttlecocks packed in ...        1        NaN  \n",
       "3     Quite O. K. , but nowadays  the quality of the...        3        NaN  \n",
       "4     Over pricedJust â?¹620 ..from retailer.I didn'...        1        NaN  \n",
       "...                                                 ...      ...        ...  \n",
       "8505  Delivered before time but price is high from m...        3        NaN  \n",
       "8506  up to the mark but same is available in market...        4        NaN  \n",
       "8507                       Nice delivery speedREAD MORE        5        NaN  \n",
       "8508  No complaints about the item . Its the best on...        5        NaN  \n",
       "8509  Not sure why we have charged for this product ...        1        NaN  \n",
       "\n",
       "[8510 rows x 9 columns]"
      ]
     },
     "execution_count": 161,
     "metadata": {},
     "output_type": "execute_result"
    }
   ],
   "source": [
    "data = pd.read_csv(r'C:\\Users\\alenp\\Downloads\\Innmoatics\\7\\reviews_data_dump\\reviews_badminton\\data.csv')\n",
    "data\n",
    "data_cleaned = data.dropna(subset = ['Review text'])\n",
    "data_cleaned"
   ]
  },
  {
   "cell_type": "code",
   "execution_count": 160,
   "id": "cc34ce67-c935-4f13-8f16-6a2eb88982b1",
   "metadata": {
    "tags": []
   },
   "outputs": [
    {
     "name": "stderr",
     "output_type": "stream",
     "text": [
      "C:\\Users\\alenp\\AppData\\Local\\Temp\\ipykernel_10420\\2233465950.py:1: SettingWithCopyWarning: \n",
      "A value is trying to be set on a copy of a slice from a DataFrame.\n",
      "Try using .loc[row_indexer,col_indexer] = value instead\n",
      "\n",
      "See the caveats in the documentation: https://pandas.pydata.org/pandas-docs/stable/user_guide/indexing.html#returning-a-view-versus-a-copy\n",
      "  data_cleaned['Sentiment'] = data_cleaned['Ratings'].apply(lambda x: '1' if x > 3 else '0')\n"
     ]
    }
   ],
   "source": [
    "data_cleaned['Sentiment'] = data_cleaned['Ratings'].apply(lambda x: '1' if x > 3 else '0')\n",
    "file_path = r\"C:\\Users\\alenp\\Downloads\\Innmoatics\\7\\reviews_data_dump\\reviews_badminton\\exported_data.csv\"\n",
    "data_cleaned.to_csv(file_path, index=False)"
   ]
  },
  {
   "cell_type": "code",
   "execution_count": 163,
   "id": "2ab2626f-91dc-49a7-8e7f-c3d2612acfc9",
   "metadata": {
    "tags": []
   },
   "outputs": [
    {
     "data": {
      "text/html": [
       "<div>\n",
       "<style scoped>\n",
       "    .dataframe tbody tr th:only-of-type {\n",
       "        vertical-align: middle;\n",
       "    }\n",
       "\n",
       "    .dataframe tbody tr th {\n",
       "        vertical-align: top;\n",
       "    }\n",
       "\n",
       "    .dataframe thead th {\n",
       "        text-align: right;\n",
       "    }\n",
       "</style>\n",
       "<table border=\"1\" class=\"dataframe\">\n",
       "  <thead>\n",
       "    <tr style=\"text-align: right;\">\n",
       "      <th></th>\n",
       "      <th>Reviewer Name</th>\n",
       "      <th>Review Title</th>\n",
       "      <th>Place of Review</th>\n",
       "      <th>Up Votes</th>\n",
       "      <th>Down Votes</th>\n",
       "      <th>Month</th>\n",
       "      <th>Review text</th>\n",
       "      <th>Ratings</th>\n",
       "      <th>Sentiment</th>\n",
       "    </tr>\n",
       "  </thead>\n",
       "  <tbody>\n",
       "    <tr>\n",
       "      <th>0</th>\n",
       "      <td>Kamal Suresh</td>\n",
       "      <td>Nice product</td>\n",
       "      <td>Certified Buyer, Chirakkal</td>\n",
       "      <td>889.0</td>\n",
       "      <td>64.0</td>\n",
       "      <td>Feb-21</td>\n",
       "      <td>Nice product, good quality, but price is now r...</td>\n",
       "      <td>4</td>\n",
       "      <td>1</td>\n",
       "    </tr>\n",
       "    <tr>\n",
       "      <th>1</th>\n",
       "      <td>Flipkart Customer</td>\n",
       "      <td>Don't waste your money</td>\n",
       "      <td>Certified Buyer, Hyderabad</td>\n",
       "      <td>109.0</td>\n",
       "      <td>6.0</td>\n",
       "      <td>Feb-21</td>\n",
       "      <td>They didn't supplied Yonex Mavis 350. Outside ...</td>\n",
       "      <td>1</td>\n",
       "      <td>0</td>\n",
       "    </tr>\n",
       "    <tr>\n",
       "      <th>2</th>\n",
       "      <td>A. S. Raja Srinivasan</td>\n",
       "      <td>Did not meet expectations</td>\n",
       "      <td>Certified Buyer, Dharmapuri</td>\n",
       "      <td>42.0</td>\n",
       "      <td>3.0</td>\n",
       "      <td>Apr-21</td>\n",
       "      <td>Worst product. Damaged shuttlecocks packed in ...</td>\n",
       "      <td>1</td>\n",
       "      <td>0</td>\n",
       "    </tr>\n",
       "    <tr>\n",
       "      <th>3</th>\n",
       "      <td>Suresh Narayanasamy</td>\n",
       "      <td>Fair</td>\n",
       "      <td>Certified Buyer, Chennai</td>\n",
       "      <td>25.0</td>\n",
       "      <td>1.0</td>\n",
       "      <td>NaN</td>\n",
       "      <td>Quite O. K. , but nowadays  the quality of the...</td>\n",
       "      <td>3</td>\n",
       "      <td>0</td>\n",
       "    </tr>\n",
       "    <tr>\n",
       "      <th>4</th>\n",
       "      <td>ASHIK P A</td>\n",
       "      <td>Over priced</td>\n",
       "      <td>NaN</td>\n",
       "      <td>147.0</td>\n",
       "      <td>24.0</td>\n",
       "      <td>Apr-16</td>\n",
       "      <td>Over pricedJust â?¹620 ..from retailer.I didn'...</td>\n",
       "      <td>1</td>\n",
       "      <td>0</td>\n",
       "    </tr>\n",
       "    <tr>\n",
       "      <th>...</th>\n",
       "      <td>...</td>\n",
       "      <td>...</td>\n",
       "      <td>...</td>\n",
       "      <td>...</td>\n",
       "      <td>...</td>\n",
       "      <td>...</td>\n",
       "      <td>...</td>\n",
       "      <td>...</td>\n",
       "      <td>...</td>\n",
       "    </tr>\n",
       "    <tr>\n",
       "      <th>8505</th>\n",
       "      <td>MD. Jabbar</td>\n",
       "      <td>Very Good</td>\n",
       "      <td>NaN</td>\n",
       "      <td>1.0</td>\n",
       "      <td>0.0</td>\n",
       "      <td>Sep-16</td>\n",
       "      <td>Delivered before time but price is high from m...</td>\n",
       "      <td>3</td>\n",
       "      <td>0</td>\n",
       "    </tr>\n",
       "    <tr>\n",
       "      <th>8506</th>\n",
       "      <td>Abani Behera</td>\n",
       "      <td>Don't waste your money</td>\n",
       "      <td>NaN</td>\n",
       "      <td>0.0</td>\n",
       "      <td>2.0</td>\n",
       "      <td>Sep-16</td>\n",
       "      <td>up to the mark but same is available in market...</td>\n",
       "      <td>4</td>\n",
       "      <td>1</td>\n",
       "    </tr>\n",
       "    <tr>\n",
       "      <th>8507</th>\n",
       "      <td>vishnu varma</td>\n",
       "      <td>Really Nice</td>\n",
       "      <td>Certified Buyer, Agartala</td>\n",
       "      <td>0.0</td>\n",
       "      <td>1.0</td>\n",
       "      <td>Sep-16</td>\n",
       "      <td>Nice delivery speedREAD MORE</td>\n",
       "      <td>5</td>\n",
       "      <td>1</td>\n",
       "    </tr>\n",
       "    <tr>\n",
       "      <th>8508</th>\n",
       "      <td>NaN</td>\n",
       "      <td>NaN</td>\n",
       "      <td>NaN</td>\n",
       "      <td>NaN</td>\n",
       "      <td>NaN</td>\n",
       "      <td>NaN</td>\n",
       "      <td>No complaints about the item . Its the best on...</td>\n",
       "      <td>5</td>\n",
       "      <td>1</td>\n",
       "    </tr>\n",
       "    <tr>\n",
       "      <th>8509</th>\n",
       "      <td>NaN</td>\n",
       "      <td>NaN</td>\n",
       "      <td>NaN</td>\n",
       "      <td>NaN</td>\n",
       "      <td>NaN</td>\n",
       "      <td>NaN</td>\n",
       "      <td>Not sure why we have charged for this product ...</td>\n",
       "      <td>1</td>\n",
       "      <td>0</td>\n",
       "    </tr>\n",
       "  </tbody>\n",
       "</table>\n",
       "<p>8510 rows × 9 columns</p>\n",
       "</div>"
      ],
      "text/plain": [
       "               Reviewer Name               Review Title  \\\n",
       "0               Kamal Suresh               Nice product   \n",
       "1          Flipkart Customer     Don't waste your money   \n",
       "2     A. S. Raja Srinivasan   Did not meet expectations   \n",
       "3        Suresh Narayanasamy                       Fair   \n",
       "4                  ASHIK P A                Over priced   \n",
       "...                      ...                        ...   \n",
       "8505              MD. Jabbar                  Very Good   \n",
       "8506            Abani Behera     Don't waste your money   \n",
       "8507            vishnu varma                Really Nice   \n",
       "8508                     NaN                        NaN   \n",
       "8509                     NaN                        NaN   \n",
       "\n",
       "                  Place of Review  Up Votes  Down Votes   Month  \\\n",
       "0      Certified Buyer, Chirakkal     889.0        64.0  Feb-21   \n",
       "1      Certified Buyer, Hyderabad     109.0         6.0  Feb-21   \n",
       "2     Certified Buyer, Dharmapuri      42.0         3.0  Apr-21   \n",
       "3        Certified Buyer, Chennai      25.0         1.0     NaN   \n",
       "4                             NaN     147.0        24.0  Apr-16   \n",
       "...                           ...       ...         ...     ...   \n",
       "8505                          NaN       1.0         0.0  Sep-16   \n",
       "8506                          NaN       0.0         2.0  Sep-16   \n",
       "8507    Certified Buyer, Agartala       0.0         1.0  Sep-16   \n",
       "8508                          NaN       NaN         NaN     NaN   \n",
       "8509                          NaN       NaN         NaN     NaN   \n",
       "\n",
       "                                            Review text  Ratings  Sentiment  \n",
       "0     Nice product, good quality, but price is now r...        4          1  \n",
       "1     They didn't supplied Yonex Mavis 350. Outside ...        1          0  \n",
       "2     Worst product. Damaged shuttlecocks packed in ...        1          0  \n",
       "3     Quite O. K. , but nowadays  the quality of the...        3          0  \n",
       "4     Over pricedJust â?¹620 ..from retailer.I didn'...        1          0  \n",
       "...                                                 ...      ...        ...  \n",
       "8505  Delivered before time but price is high from m...        3          0  \n",
       "8506  up to the mark but same is available in market...        4          1  \n",
       "8507                       Nice delivery speedREAD MORE        5          1  \n",
       "8508  No complaints about the item . Its the best on...        5          1  \n",
       "8509  Not sure why we have charged for this product ...        1          0  \n",
       "\n",
       "[8510 rows x 9 columns]"
      ]
     },
     "execution_count": 163,
     "metadata": {},
     "output_type": "execute_result"
    }
   ],
   "source": [
    "data = pd.read_csv( r\"C:\\Users\\alenp\\Downloads\\Innmoatics\\7\\reviews_data_dump\\reviews_badminton\\exported_data.csv\")\n",
    "data"
   ]
  },
  {
   "cell_type": "code",
   "execution_count": 166,
   "id": "ae2952cb-4d7f-47a7-9b02-71b897e1a5b6",
   "metadata": {
    "tags": []
   },
   "outputs": [],
   "source": [
    "import pandas as pd\n",
    "import numpy as np\n",
    "import re\n",
    "import nltk\n",
    "from nltk.corpus import stopwords\n",
    "from nltk.stem import WordNetLemmatizer\n",
    "from sklearn.feature_extraction.text import TfidfVectorizer\n",
    "from sklearn.ensemble import RandomForestClassifier\n",
    "from sklearn.pipeline import Pipeline\n",
    "from sklearn.model_selection import train_test_split\n",
    "from sklearn.metrics import accuracy_score\n",
    "from prefect import task, flow"
   ]
  },
  {
   "cell_type": "code",
   "execution_count": 168,
   "id": "c38f9dd5-de47-49ae-9a60-ba8ec4448557",
   "metadata": {
    "tags": []
   },
   "outputs": [],
   "source": [
    "@task\n",
    "def load_data(file_path):\n",
    "    \"\"\"\n",
    "    Load data from a CSV file.\n",
    "    \"\"\"\n",
    "    data =  pd.read_csv(file_path)\n",
    "    data = data.fillna('')\n",
    "    return data\n"
   ]
  },
  {
   "cell_type": "code",
   "execution_count": 169,
   "id": "aeefc108-02e2-461b-bdc7-c434a6fd71c6",
   "metadata": {
    "tags": []
   },
   "outputs": [
    {
     "name": "stderr",
     "output_type": "stream",
     "text": [
      "C:\\Users\\alenp\\anaconda3\\Lib\\site-packages\\prefect\\tasks.py:348: UserWarning: A task named 'split_inputs_output' and defined at 'C:\\Users\\alenp\\AppData\\Local\\Temp\\ipykernel_10420\\2276337236.py:1' conflicts with another task. Consider specifying a unique `name` parameter in the task definition:\n",
      "\n",
      " `@task(name='my_unique_name', ...)`\n",
      "  warnings.warn(\n"
     ]
    }
   ],
   "source": [
    "@task\n",
    "def split_inputs_output(data, inputs, output):\n",
    "    \"\"\"\n",
    "    Split features and target variables.\n",
    "    \"\"\"\n",
    "    X = data[inputs]\n",
    "    y = data[output]\n",
    "    return X, y"
   ]
  },
  {
   "cell_type": "code",
   "execution_count": 143,
   "id": "3a2888be-7066-44c2-98fc-67c8d8142072",
   "metadata": {
    "tags": []
   },
   "outputs": [],
   "source": [
    "def split_train_test(X, y, test_size=0.25, random_state=0):\n",
    "    \"\"\"\n",
    "    Split data into train and test sets.\n",
    "    \"\"\"\n",
    "    return train_test_split(X, y, test_size=test_size, random_state=random_state)\n"
   ]
  },
  {
   "cell_type": "code",
   "execution_count": null,
   "id": "40135b88-f608-4b7e-88de-964cdbcbc93b",
   "metadata": {},
   "outputs": [],
   "source": []
  },
  {
   "cell_type": "code",
   "execution_count": 144,
   "id": "e6fd9c4c-103f-4797-b60a-6e1e2eb010d0",
   "metadata": {
    "tags": []
   },
   "outputs": [],
   "source": [
    "def preprocess_data(X_train, X_test, y_train, y_test):\n",
    "    \"\"\"\n",
    "    Rescale the data.\n",
    "    \"\"\"\n",
    "    def clean_lem(doc):\n",
    "    \n",
    "        doc = str(doc)  # Convert doc to string\n",
    "        # This text contains a lot of <br/> tags.\n",
    "        doc = re.sub(r'<\\s*br\\s*/?>', ' ', doc)  # Replace variations of <br> tag with a space\n",
    "\n",
    "        # Remove punctuation and numbers.\n",
    "        doc = re.sub(r'[^\\w\\s]', '', doc)  # Remove punctuation\n",
    "        doc = re.sub(r'\\d+', '', doc)      # Remove numbers\n",
    "\n",
    "        # Converting to lower case\n",
    "        doc = doc.lower()\n",
    "\n",
    "        # Tokenization\n",
    "        tokens = nltk.word_tokenize(doc)\n",
    "\n",
    "        # Lemmatize\n",
    "        lemmatizer = WordNetLemmatizer()\n",
    "        lemmatized_tokens = [lemmatizer.lemmatize(token) for token in tokens]\n",
    "\n",
    "        # Stop word removal\n",
    "        stop_words = set(stopwords.words('english'))\n",
    "        filtered_tokens = [word for word in lemmatized_tokens if word.lower() not in stop_words]\n",
    "\n",
    "        return \" \".join(filtered_tokens)\n",
    "\n",
    "    return X_train, X_test, y_train, y_test\n",
    "\n"
   ]
  },
  {
   "cell_type": "code",
   "execution_count": 145,
   "id": "491c9a63-deda-4c79-8003-852e651c0039",
   "metadata": {
    "tags": []
   },
   "outputs": [],
   "source": [
    "def train_model(X_train, y_train, hyperparameters):\n",
    "    \"\"\"\n",
    "    Training the machine learning model.\n",
    "    \"\"\"\n",
    "    pipeline = Pipeline([\n",
    "        ('tfidf', TfidfVectorizer(preprocessor=clean_lem)),\n",
    "        ('rf', RandomForestClassifier())  # Use RandomForestClassifier instead of MLPClassifier\n",
    "    ])\n",
    "    pipeline.fit(X_train, y_train)\n",
    "    return pipeline\n"
   ]
  },
  {
   "cell_type": "code",
   "execution_count": 146,
   "id": "8ec3a776-726c-4186-9bf4-1f375056ff9d",
   "metadata": {
    "tags": []
   },
   "outputs": [],
   "source": [
    "def evaluate_model(model, X_train, y_train, X_test, y_test):\n",
    "    \"\"\"\n",
    "    Evaluating the model.\n",
    "    \"\"\"\n",
    "    y_train_pred = model.predict(X_train)\n",
    "    y_test_pred = model.predict(X_test)\n",
    "\n",
    "    train_score = metrics.accuracy_score(y_train, y_train_pred)\n",
    "    test_score = metrics.accuracy_score(y_test, y_test_pred)\n",
    "    \n",
    "    return train_score, test_score\n"
   ]
  },
  {
   "cell_type": "code",
   "execution_count": 164,
   "id": "950e7196-579d-4f0c-92f5-7107ea1ffb3a",
   "metadata": {
    "tags": []
   },
   "outputs": [],
   "source": [
    "def workflow():\n",
    "    DATA_PATH =  r\"C:\\Users\\alenp\\Downloads\\Innmoatics\\7\\reviews_data_dump\\reviews_badminton\\exported_data.csv\"\n",
    "    INPUTS ='Review text'\n",
    "    OUTPUT = 'Sentiment'\n",
    "    HYPERPARAMETERS = {'max_depth': None,\n",
    "                      'n_estimators': 80}\n",
    "    \n",
    "    # Load data\n",
    "    data = load_data(DATA_PATH)\n",
    "    \n",
    "    # Identify Inputs and Output\n",
    "    X, y = split_inputs_output(data, INPUTS, OUTPUT)\n",
    "\n",
    "    # Split data into train and test sets\n",
    "    X_train, X_test, y_train, y_test = split_train_test(X, y)\n",
    "\n",
    "\n",
    "    # Build a model\n",
    "    model = train_model(X_train, y_train, HYPERPARAMETERS)\n",
    "    \n",
    "    # Evaluation\n",
    "    train_score, test_score = evaluate_model(model, X_train, y_train, X_test, y_test)\n",
    "    \n",
    "    print(\"Train Score:\", train_score)\n",
    "    print(\"Test Score:\", test_score)\n"
   ]
  },
  {
   "cell_type": "code",
   "execution_count": 165,
   "id": "ae9b4ec1-25a8-45a2-915b-1d8766b16d62",
   "metadata": {
    "tags": []
   },
   "outputs": [
    {
     "name": "stdout",
     "output_type": "stream",
     "text": [
      "Train Score: 0.9576935130053275\n",
      "Test Score: 0.8717105263157895\n"
     ]
    }
   ],
   "source": [
    "if __name__ == \"__main__\":\n",
    "    workflow()"
   ]
  },
  {
   "cell_type": "code",
   "execution_count": 170,
   "id": "caf87586-0c80-40fc-aa4e-1de7166aca12",
   "metadata": {
    "tags": []
   },
   "outputs": [
    {
     "name": "stderr",
     "output_type": "stream",
     "text": [
      "C:\\Users\\alenp\\anaconda3\\Lib\\site-packages\\prefect\\tasks.py:348: UserWarning: A task named 'load_data' and defined at 'C:\\Users\\alenp\\AppData\\Local\\Temp\\ipykernel_10420\\905169807.py:24' conflicts with another task. Consider specifying a unique `name` parameter in the task definition:\n",
      "\n",
      " `@task(name='my_unique_name', ...)`\n",
      "  warnings.warn(\n",
      "C:\\Users\\alenp\\anaconda3\\Lib\\site-packages\\prefect\\tasks.py:348: UserWarning: A task named 'split_inputs_output' and defined at 'C:\\Users\\alenp\\AppData\\Local\\Temp\\ipykernel_10420\\905169807.py:34' conflicts with another task. Consider specifying a unique `name` parameter in the task definition:\n",
      "\n",
      " `@task(name='my_unique_name', ...)`\n",
      "  warnings.warn(\n",
      "C:\\Users\\alenp\\anaconda3\\Lib\\site-packages\\prefect\\tasks.py:348: UserWarning: A task named 'split_train_test' and defined at 'C:\\Users\\alenp\\AppData\\Local\\Temp\\ipykernel_10420\\905169807.py:43' conflicts with another task. Consider specifying a unique `name` parameter in the task definition:\n",
      "\n",
      " `@task(name='my_unique_name', ...)`\n",
      "  warnings.warn(\n",
      "C:\\Users\\alenp\\anaconda3\\Lib\\site-packages\\prefect\\tasks.py:348: UserWarning: A task named 'preprocess_data' and defined at 'C:\\Users\\alenp\\AppData\\Local\\Temp\\ipykernel_10420\\905169807.py:50' conflicts with another task. Consider specifying a unique `name` parameter in the task definition:\n",
      "\n",
      " `@task(name='my_unique_name', ...)`\n",
      "  warnings.warn(\n",
      "C:\\Users\\alenp\\anaconda3\\Lib\\site-packages\\prefect\\tasks.py:348: UserWarning: A task named 'train_model' and defined at 'C:\\Users\\alenp\\AppData\\Local\\Temp\\ipykernel_10420\\905169807.py:84' conflicts with another task. Consider specifying a unique `name` parameter in the task definition:\n",
      "\n",
      " `@task(name='my_unique_name', ...)`\n",
      "  warnings.warn(\n",
      "C:\\Users\\alenp\\anaconda3\\Lib\\site-packages\\prefect\\tasks.py:348: UserWarning: A task named 'evaluate_model' and defined at 'C:\\Users\\alenp\\AppData\\Local\\Temp\\ipykernel_10420\\905169807.py:96' conflicts with another task. Consider specifying a unique `name` parameter in the task definition:\n",
      "\n",
      " `@task(name='my_unique_name', ...)`\n",
      "  warnings.warn(\n"
     ]
    },
    {
     "data": {
      "text/html": [
       "<pre style=\"white-space:pre;overflow-x:auto;line-height:normal;font-family:Menlo,'DejaVu Sans Mono',consolas,'Courier New',monospace\">10:50:50.144 | <span style=\"color: #008080; text-decoration-color: #008080\">INFO</span>    | prefect.engine - Created flow run<span style=\"color: #800080; text-decoration-color: #800080\"> 'loud-junglefowl'</span> for flow<span style=\"color: #800080; text-decoration-color: #800080; font-weight: bold\"> ' Sentiment Analysis Prefect Workflow'</span>\n",
       "</pre>\n"
      ],
      "text/plain": [
       "10:50:50.144 | \u001b[36mINFO\u001b[0m    | prefect.engine - Created flow run\u001b[35m 'loud-junglefowl'\u001b[0m for flow\u001b[1;35m ' Sentiment Analysis Prefect Workflow'\u001b[0m\n"
      ]
     },
     "metadata": {},
     "output_type": "display_data"
    },
    {
     "data": {
      "text/html": [
       "<pre style=\"white-space:pre;overflow-x:auto;line-height:normal;font-family:Menlo,'DejaVu Sans Mono',consolas,'Courier New',monospace\">10:50:50.778 | <span style=\"color: #008080; text-decoration-color: #008080\">INFO</span>    | Flow run<span style=\"color: #800080; text-decoration-color: #800080\"> 'loud-junglefowl'</span> - Created task run 'load_data-0' for task 'load_data'\n",
       "</pre>\n"
      ],
      "text/plain": [
       "10:50:50.778 | \u001b[36mINFO\u001b[0m    | Flow run\u001b[35m 'loud-junglefowl'\u001b[0m - Created task run 'load_data-0' for task 'load_data'\n"
      ]
     },
     "metadata": {},
     "output_type": "display_data"
    },
    {
     "data": {
      "text/html": [
       "<pre style=\"white-space:pre;overflow-x:auto;line-height:normal;font-family:Menlo,'DejaVu Sans Mono',consolas,'Courier New',monospace\">10:50:50.792 | <span style=\"color: #008080; text-decoration-color: #008080\">INFO</span>    | Flow run<span style=\"color: #800080; text-decoration-color: #800080\"> 'loud-junglefowl'</span> - Executing 'load_data-0' immediately...\n",
       "</pre>\n"
      ],
      "text/plain": [
       "10:50:50.792 | \u001b[36mINFO\u001b[0m    | Flow run\u001b[35m 'loud-junglefowl'\u001b[0m - Executing 'load_data-0' immediately...\n"
      ]
     },
     "metadata": {},
     "output_type": "display_data"
    },
    {
     "data": {
      "text/html": [
       "<pre style=\"white-space:pre;overflow-x:auto;line-height:normal;font-family:Menlo,'DejaVu Sans Mono',consolas,'Courier New',monospace\">10:50:51.675 | <span style=\"color: #008080; text-decoration-color: #008080\">INFO</span>    | Task run 'load_data-0' - Finished in state <span style=\"color: #008000; text-decoration-color: #008000\">Completed</span>()\n",
       "</pre>\n"
      ],
      "text/plain": [
       "10:50:51.675 | \u001b[36mINFO\u001b[0m    | Task run 'load_data-0' - Finished in state \u001b[32mCompleted\u001b[0m()\n"
      ]
     },
     "metadata": {},
     "output_type": "display_data"
    },
    {
     "data": {
      "text/html": [
       "<pre style=\"white-space:pre;overflow-x:auto;line-height:normal;font-family:Menlo,'DejaVu Sans Mono',consolas,'Courier New',monospace\">10:50:51.816 | <span style=\"color: #008080; text-decoration-color: #008080\">INFO</span>    | Flow run<span style=\"color: #800080; text-decoration-color: #800080\"> 'loud-junglefowl'</span> - Created task run 'split_inputs_output-0' for task 'split_inputs_output'\n",
       "</pre>\n"
      ],
      "text/plain": [
       "10:50:51.816 | \u001b[36mINFO\u001b[0m    | Flow run\u001b[35m 'loud-junglefowl'\u001b[0m - Created task run 'split_inputs_output-0' for task 'split_inputs_output'\n"
      ]
     },
     "metadata": {},
     "output_type": "display_data"
    },
    {
     "data": {
      "text/html": [
       "<pre style=\"white-space:pre;overflow-x:auto;line-height:normal;font-family:Menlo,'DejaVu Sans Mono',consolas,'Courier New',monospace\">10:50:51.816 | <span style=\"color: #008080; text-decoration-color: #008080\">INFO</span>    | Flow run<span style=\"color: #800080; text-decoration-color: #800080\"> 'loud-junglefowl'</span> - Executing 'split_inputs_output-0' immediately...\n",
       "</pre>\n"
      ],
      "text/plain": [
       "10:50:51.816 | \u001b[36mINFO\u001b[0m    | Flow run\u001b[35m 'loud-junglefowl'\u001b[0m - Executing 'split_inputs_output-0' immediately...\n"
      ]
     },
     "metadata": {},
     "output_type": "display_data"
    },
    {
     "data": {
      "text/html": [
       "<pre style=\"white-space:pre;overflow-x:auto;line-height:normal;font-family:Menlo,'DejaVu Sans Mono',consolas,'Courier New',monospace\">10:50:52.172 | <span style=\"color: #008080; text-decoration-color: #008080\">INFO</span>    | Task run 'split_inputs_output-0' - Finished in state <span style=\"color: #008000; text-decoration-color: #008000\">Completed</span>()\n",
       "</pre>\n"
      ],
      "text/plain": [
       "10:50:52.172 | \u001b[36mINFO\u001b[0m    | Task run 'split_inputs_output-0' - Finished in state \u001b[32mCompleted\u001b[0m()\n"
      ]
     },
     "metadata": {},
     "output_type": "display_data"
    },
    {
     "data": {
      "text/html": [
       "<pre style=\"white-space:pre;overflow-x:auto;line-height:normal;font-family:Menlo,'DejaVu Sans Mono',consolas,'Courier New',monospace\">10:50:52.305 | <span style=\"color: #008080; text-decoration-color: #008080\">INFO</span>    | Flow run<span style=\"color: #800080; text-decoration-color: #800080\"> 'loud-junglefowl'</span> - Created task run 'split_train_test-0' for task 'split_train_test'\n",
       "</pre>\n"
      ],
      "text/plain": [
       "10:50:52.305 | \u001b[36mINFO\u001b[0m    | Flow run\u001b[35m 'loud-junglefowl'\u001b[0m - Created task run 'split_train_test-0' for task 'split_train_test'\n"
      ]
     },
     "metadata": {},
     "output_type": "display_data"
    },
    {
     "data": {
      "text/html": [
       "<pre style=\"white-space:pre;overflow-x:auto;line-height:normal;font-family:Menlo,'DejaVu Sans Mono',consolas,'Courier New',monospace\">10:50:52.320 | <span style=\"color: #008080; text-decoration-color: #008080\">INFO</span>    | Flow run<span style=\"color: #800080; text-decoration-color: #800080\"> 'loud-junglefowl'</span> - Executing 'split_train_test-0' immediately...\n",
       "</pre>\n"
      ],
      "text/plain": [
       "10:50:52.320 | \u001b[36mINFO\u001b[0m    | Flow run\u001b[35m 'loud-junglefowl'\u001b[0m - Executing 'split_train_test-0' immediately...\n"
      ]
     },
     "metadata": {},
     "output_type": "display_data"
    },
    {
     "data": {
      "text/html": [
       "<pre style=\"white-space:pre;overflow-x:auto;line-height:normal;font-family:Menlo,'DejaVu Sans Mono',consolas,'Courier New',monospace\">10:50:52.689 | <span style=\"color: #008080; text-decoration-color: #008080\">INFO</span>    | Task run 'split_train_test-0' - Finished in state <span style=\"color: #008000; text-decoration-color: #008000\">Completed</span>()\n",
       "</pre>\n"
      ],
      "text/plain": [
       "10:50:52.689 | \u001b[36mINFO\u001b[0m    | Task run 'split_train_test-0' - Finished in state \u001b[32mCompleted\u001b[0m()\n"
      ]
     },
     "metadata": {},
     "output_type": "display_data"
    },
    {
     "data": {
      "text/html": [
       "<pre style=\"white-space:pre;overflow-x:auto;line-height:normal;font-family:Menlo,'DejaVu Sans Mono',consolas,'Courier New',monospace\">10:50:52.817 | <span style=\"color: #008080; text-decoration-color: #008080\">INFO</span>    | Flow run<span style=\"color: #800080; text-decoration-color: #800080\"> 'loud-junglefowl'</span> - Created task run 'train_model-0' for task 'train_model'\n",
       "</pre>\n"
      ],
      "text/plain": [
       "10:50:52.817 | \u001b[36mINFO\u001b[0m    | Flow run\u001b[35m 'loud-junglefowl'\u001b[0m - Created task run 'train_model-0' for task 'train_model'\n"
      ]
     },
     "metadata": {},
     "output_type": "display_data"
    },
    {
     "data": {
      "text/html": [
       "<pre style=\"white-space:pre;overflow-x:auto;line-height:normal;font-family:Menlo,'DejaVu Sans Mono',consolas,'Courier New',monospace\">10:50:52.817 | <span style=\"color: #008080; text-decoration-color: #008080\">INFO</span>    | Flow run<span style=\"color: #800080; text-decoration-color: #800080\"> 'loud-junglefowl'</span> - Executing 'train_model-0' immediately...\n",
       "</pre>\n"
      ],
      "text/plain": [
       "10:50:52.817 | \u001b[36mINFO\u001b[0m    | Flow run\u001b[35m 'loud-junglefowl'\u001b[0m - Executing 'train_model-0' immediately...\n"
      ]
     },
     "metadata": {},
     "output_type": "display_data"
    },
    {
     "data": {
      "text/html": [
       "<pre style=\"white-space:pre;overflow-x:auto;line-height:normal;font-family:Menlo,'DejaVu Sans Mono',consolas,'Courier New',monospace\">10:51:07.163 | <span style=\"color: #008080; text-decoration-color: #008080\">INFO</span>    | Task run 'train_model-0' - Finished in state <span style=\"color: #008000; text-decoration-color: #008000\">Completed</span>()\n",
       "</pre>\n"
      ],
      "text/plain": [
       "10:51:07.163 | \u001b[36mINFO\u001b[0m    | Task run 'train_model-0' - Finished in state \u001b[32mCompleted\u001b[0m()\n"
      ]
     },
     "metadata": {},
     "output_type": "display_data"
    },
    {
     "data": {
      "text/html": [
       "<pre style=\"white-space:pre;overflow-x:auto;line-height:normal;font-family:Menlo,'DejaVu Sans Mono',consolas,'Courier New',monospace\">10:51:07.338 | <span style=\"color: #008080; text-decoration-color: #008080\">INFO</span>    | Flow run<span style=\"color: #800080; text-decoration-color: #800080\"> 'loud-junglefowl'</span> - Created task run 'evaluate_model-0' for task 'evaluate_model'\n",
       "</pre>\n"
      ],
      "text/plain": [
       "10:51:07.338 | \u001b[36mINFO\u001b[0m    | Flow run\u001b[35m 'loud-junglefowl'\u001b[0m - Created task run 'evaluate_model-0' for task 'evaluate_model'\n"
      ]
     },
     "metadata": {},
     "output_type": "display_data"
    },
    {
     "data": {
      "text/html": [
       "<pre style=\"white-space:pre;overflow-x:auto;line-height:normal;font-family:Menlo,'DejaVu Sans Mono',consolas,'Courier New',monospace\">10:51:07.344 | <span style=\"color: #008080; text-decoration-color: #008080\">INFO</span>    | Flow run<span style=\"color: #800080; text-decoration-color: #800080\"> 'loud-junglefowl'</span> - Executing 'evaluate_model-0' immediately...\n",
       "</pre>\n"
      ],
      "text/plain": [
       "10:51:07.344 | \u001b[36mINFO\u001b[0m    | Flow run\u001b[35m 'loud-junglefowl'\u001b[0m - Executing 'evaluate_model-0' immediately...\n"
      ]
     },
     "metadata": {},
     "output_type": "display_data"
    },
    {
     "data": {
      "text/html": [
       "<pre style=\"white-space:pre;overflow-x:auto;line-height:normal;font-family:Menlo,'DejaVu Sans Mono',consolas,'Courier New',monospace\">10:51:19.676 | <span style=\"color: #008080; text-decoration-color: #008080\">INFO</span>    | Task run 'evaluate_model-0' - Finished in state <span style=\"color: #008000; text-decoration-color: #008000\">Completed</span>()\n",
       "</pre>\n"
      ],
      "text/plain": [
       "10:51:19.676 | \u001b[36mINFO\u001b[0m    | Task run 'evaluate_model-0' - Finished in state \u001b[32mCompleted\u001b[0m()\n"
      ]
     },
     "metadata": {},
     "output_type": "display_data"
    },
    {
     "name": "stdout",
     "output_type": "stream",
     "text": [
      "Train Score: 0.9576935130053275\n",
      "Test Score: 0.8717105263157895\n"
     ]
    },
    {
     "data": {
      "text/html": [
       "<pre style=\"white-space:pre;overflow-x:auto;line-height:normal;font-family:Menlo,'DejaVu Sans Mono',consolas,'Courier New',monospace\">10:51:19.903 | <span style=\"color: #008080; text-decoration-color: #008080\">INFO</span>    | Flow run<span style=\"color: #800080; text-decoration-color: #800080\"> 'loud-junglefowl'</span> - Finished in state <span style=\"color: #008000; text-decoration-color: #008000\">Completed</span>('All states completed.')\n",
       "</pre>\n"
      ],
      "text/plain": [
       "10:51:19.903 | \u001b[36mINFO\u001b[0m    | Flow run\u001b[35m 'loud-junglefowl'\u001b[0m - Finished in state \u001b[32mCompleted\u001b[0m('All states completed.')\n"
      ]
     },
     "metadata": {},
     "output_type": "display_data"
    }
   ],
   "source": [
    "import pandas as pd\n",
    "import numpy as np\n",
    "import nltk\n",
    "from nltk.tokenize import word_tokenize\n",
    "from nltk.corpus import stopwords\n",
    "from nltk.stem import WordNetLemmatizer\n",
    "import re\n",
    "import string\n",
    "\n",
    "\n",
    "from sklearn.pipeline import Pipeline\n",
    "\n",
    "from sklearn.feature_extraction.text import TfidfVectorizer\n",
    "from sklearn.ensemble import RandomForestClassifier\n",
    "from sklearn import metrics\n",
    "from sklearn.compose import ColumnTransformer\n",
    "\n",
    "from sklearn.model_selection import train_test_split\n",
    "from sklearn.pipeline import Pipeline\n",
    "from sklearn.metrics import accuracy_score\n",
    "\n",
    "from prefect import task, flow\n",
    "\n",
    "@task\n",
    "def load_data(file_path):\n",
    "    \"\"\"\n",
    "    Load data from a CSV file.\n",
    "    \"\"\"\n",
    "    data =  pd.read_csv(file_path)\n",
    "    data = data.fillna('')\n",
    "    return data\n",
    "\n",
    "\n",
    "@task\n",
    "def split_inputs_output(data, inputs, output):\n",
    "    \"\"\"\n",
    "    Split features and target variables.\n",
    "    \"\"\"\n",
    "    X = data[inputs]\n",
    "    y = data[output]\n",
    "    return X, y\n",
    "\n",
    "@task\n",
    "def split_train_test(X, y, test_size=0.25, random_state=0):\n",
    "    \"\"\"\n",
    "    Split data into train and test sets.\n",
    "    \"\"\"\n",
    "    return train_test_split(X, y, test_size=test_size, random_state=random_state)\n",
    "\n",
    "@task\n",
    "def preprocess_data(X_train, X_test, y_train, y_test):\n",
    "    \"\"\"\n",
    "    Rescale the data.\n",
    "    \"\"\"\n",
    "    def clean_lem(doc):\n",
    "    \n",
    "        doc = str(doc)  # Convert doc to string\n",
    "        # This text contains a lot of <br/> tags.\n",
    "        doc = re.sub(r'<\\s*br\\s*/?>', ' ', doc)  # Replace variations of <br> tag with a space\n",
    "\n",
    "        # Remove punctuation and numbers.\n",
    "        doc = re.sub(r'[^\\w\\s]', '', doc)  # Remove punctuation\n",
    "        doc = re.sub(r'\\d+', '', doc)      # Remove numbers\n",
    "\n",
    "        # Converting to lower case\n",
    "        doc = doc.lower()\n",
    "\n",
    "        # Tokenization\n",
    "        tokens = nltk.word_tokenize(doc)\n",
    "\n",
    "        # Lemmatize\n",
    "        lemmatizer = WordNetLemmatizer()\n",
    "        lemmatized_tokens = [lemmatizer.lemmatize(token) for token in tokens]\n",
    "\n",
    "        # Stop word removal\n",
    "        stop_words = set(stopwords.words('english'))\n",
    "        filtered_tokens = [word for word in lemmatized_tokens if word.lower() not in stop_words]\n",
    "\n",
    "        return \" \".join(filtered_tokens)\n",
    "\n",
    "    return X_train, X_test, y_train, y_test\n",
    "\n",
    "\n",
    "@task\n",
    "def train_model(X_train, y_train, hyperparameters):\n",
    "    \"\"\"\n",
    "    Training the machine learning model.\n",
    "    \"\"\"\n",
    "    pipeline = Pipeline([\n",
    "        ('tfidf', TfidfVectorizer(preprocessor=clean_lem)),\n",
    "        ('rf', RandomForestClassifier())  # Use RandomForestClassifier instead of MLPClassifier\n",
    "    ])\n",
    "    pipeline.fit(X_train, y_train)\n",
    "    return pipeline\n",
    "\n",
    "@task\n",
    "def evaluate_model(model, X_train, y_train, X_test, y_test):\n",
    "    \"\"\"\n",
    "    Evaluating the model.\n",
    "    \"\"\"\n",
    "    y_train_pred = model.predict(X_train)\n",
    "    y_test_pred = model.predict(X_test)\n",
    "\n",
    "    train_score = metrics.accuracy_score(y_train, y_train_pred)\n",
    "    test_score = metrics.accuracy_score(y_test, y_test_pred)\n",
    "    \n",
    "    return train_score, test_score\n",
    "\n",
    "@flow(name=\" Sentiment Analysis Prefect Workflow\")\n",
    "def workflow():\n",
    "    DATA_PATH =  r\"C:\\Users\\alenp\\Downloads\\Innmoatics\\7\\reviews_data_dump\\reviews_badminton\\exported_data.csv\"\n",
    "    INPUTS ='Review text'\n",
    "    OUTPUT = 'Sentiment'\n",
    "    HYPERPARAMETERS = {'max_depth': None,\n",
    "                      'n_estimators': 80}\n",
    "    \n",
    "    # Load data\n",
    "    data = load_data(DATA_PATH)\n",
    "    \n",
    "    # Identify Inputs and Output\n",
    "    X, y = split_inputs_output(data, INPUTS, OUTPUT)\n",
    "\n",
    "    # Split data into train and test sets\n",
    "    X_train, X_test, y_train, y_test = split_train_test(X, y)\n",
    "\n",
    "\n",
    "    # Build a model\n",
    "    model = train_model(X_train, y_train, HYPERPARAMETERS)\n",
    "    \n",
    "    # Evaluation\n",
    "    train_score, test_score = evaluate_model(model, X_train, y_train, X_test, y_test)\n",
    "    \n",
    "    print(\"Train Score:\", train_score)\n",
    "    print(\"Test Score:\", test_score)\n",
    "\n",
    "if __name__ == \"__main__\":\n",
    "    workflow()\n"
   ]
  },
  {
   "cell_type": "code",
   "execution_count": null,
   "id": "15387fc8-9207-4343-8bc6-3c3f964f6613",
   "metadata": {},
   "outputs": [],
   "source": []
  }
 ],
 "metadata": {
  "kernelspec": {
   "display_name": "Python 3 (ipykernel)",
   "language": "python",
   "name": "python3"
  },
  "language_info": {
   "codemirror_mode": {
    "name": "ipython",
    "version": 3
   },
   "file_extension": ".py",
   "mimetype": "text/x-python",
   "name": "python",
   "nbconvert_exporter": "python",
   "pygments_lexer": "ipython3",
   "version": "3.11.4"
  }
 },
 "nbformat": 4,
 "nbformat_minor": 5
}
